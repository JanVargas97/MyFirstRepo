{
 "cells": [
  {
   "cell_type": "markdown",
   "id": "143dd468-0ad3-41ba-8105-66f7b1455c76",
   "metadata": {},
   "source": [
    "# Data Science Tools and Ecosystems"
   ]
  },
  {
   "cell_type": "markdown",
   "id": "33cf2353-dc54-4b2a-9e25-a2d6c718ff44",
   "metadata": {},
   "source": [
    "In this notebook, Data Science Tools and Ecosystems are summarized.\n"
   ]
  },
  {
   "cell_type": "markdown",
   "id": "5f9bea55-6d51-4861-bc70-5ee1cbd95905",
   "metadata": {},
   "source": [
    "**Objectives**\n",
    "+ How to crate a Notebook\n",
    "+ List popular languages used by Data Scientists\n",
    "+ Know how to create a table\n",
    "+ Practice the differences between markdown cells and code cells"
   ]
  },
  {
   "cell_type": "markdown",
   "id": "7738d04a-bc01-4a36-9658-3aaa2d513944",
   "metadata": {},
   "source": [
    "Some of the popular languages that Data Scientists use are:\n",
    "1. Python\n",
    "2. R\n",
    "3. SQL\n",
    "4. Java Script"
   ]
  },
  {
   "cell_type": "markdown",
   "id": "96897059-07b4-4b7a-9b5e-e4df0dd4bc7f",
   "metadata": {},
   "source": [
    "Some of the commonly used libraries used by Data Scientist are: \n",
    "1. Pandas\n",
    "2. Numpy\n",
    "3. MatPlot\n",
    "4. Seaborn"
   ]
  },
  {
   "cell_type": "markdown",
   "id": "edce62c6-6115-4cb7-8932-c5204af22a65",
   "metadata": {},
   "source": [
    "|Data Science Tools|\n",
    "|------|\n",
    "|Jupyter|\n",
    "|R-Studio|\n",
    "|Anaconda|"
   ]
  },
  {
   "cell_type": "markdown",
   "id": "8269a4e3-3f9f-40b7-9b39-9d55d9a4ae6c",
   "metadata": {},
   "source": [
    "### Below are a few examples of evaluating arithmetic expressions in Python. "
   ]
  },
  {
   "cell_type": "code",
   "execution_count": 5,
   "id": "a12b682c-ff64-4ce8-ae87-f611bfde3c5d",
   "metadata": {},
   "outputs": [
    {
     "data": {
      "text/plain": [
       "17"
      ]
     },
     "execution_count": 5,
     "metadata": {},
     "output_type": "execute_result"
    }
   ],
   "source": [
    "# This is a simple arithmetic expression to multiply then add integers\n",
    "(3*4)+5\n"
   ]
  },
  {
   "cell_type": "code",
   "execution_count": 6,
   "id": "b800a116-391e-471c-b164-81aab94e1638",
   "metadata": {},
   "outputs": [
    {
     "data": {
      "text/plain": [
       "3.3333333333333335"
      ]
     },
     "execution_count": 6,
     "metadata": {},
     "output_type": "execute_result"
    }
   ],
   "source": [
    "# This operation will convert hours to minutes, by dividing by 60. \n",
    "200/60"
   ]
  },
  {
   "cell_type": "markdown",
   "id": "7a592181-9eac-41b5-be8b-f94cc5da95c9",
   "metadata": {},
   "source": [
    "## Author\n",
    "Janeth Vargas"
   ]
  },
  {
   "cell_type": "code",
   "execution_count": null,
   "id": "0272d7b2-d0e7-4060-a378-e5b7b77c8d62",
   "metadata": {},
   "outputs": [],
   "source": []
  }
 ],
 "metadata": {
  "kernelspec": {
   "display_name": "Python 3 (ipykernel)",
   "language": "python",
   "name": "python3"
  },
  "language_info": {
   "codemirror_mode": {
    "name": "ipython",
    "version": 3
   },
   "file_extension": ".py",
   "mimetype": "text/x-python",
   "name": "python",
   "nbconvert_exporter": "python",
   "pygments_lexer": "ipython3",
   "version": "3.12.9"
  }
 },
 "nbformat": 4,
 "nbformat_minor": 5
}
